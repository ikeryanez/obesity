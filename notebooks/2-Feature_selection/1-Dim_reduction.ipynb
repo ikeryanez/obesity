{
  "cells": [
    {
      "cell_type": "code",
      "execution_count": 1,
      "metadata": {
        "id": "X37BDqRnWwFh"
      },
      "outputs": [],
      "source": [
        "import pandas as pd"
      ]
    },
    {
      "cell_type": "code",
      "execution_count": 2,
      "metadata": {},
      "outputs": [],
      "source": [
        "obesity = pd.read_csv('../../data/obesity_final.csv')"
      ]
    },
    {
      "cell_type": "code",
      "execution_count": 3,
      "metadata": {
        "id": "UTXpJwp6aBYD"
      },
      "outputs": [],
      "source": [
        "# obesity"
      ]
    },
    {
      "cell_type": "code",
      "execution_count": 4,
      "metadata": {
        "id": "UlwiSHpVYIg6"
      },
      "outputs": [],
      "source": [
        "# pd.set_option('display.max_columns', 100)\n",
        "# obesity.info()"
      ]
    },
    {
      "cell_type": "code",
      "execution_count": 5,
      "metadata": {
        "id": "gWn4s-jwds0V"
      },
      "outputs": [],
      "source": [
        "obesity = obesity.rename(columns={'family_history_with_overweight': 'history'})"
      ]
    },
    {
      "cell_type": "markdown",
      "metadata": {
        "id": "iSu7nH31cDwk"
      },
      "source": [
        "# **VARIABLES CATEGÓRICAS**"
      ]
    },
    {
      "cell_type": "markdown",
      "metadata": {
        "id": "dxliotHJcKBF"
      },
      "source": [
        "## Variables categóricas ordinales"
      ]
    },
    {
      "cell_type": "code",
      "execution_count": 6,
      "metadata": {
        "colab": {
          "base_uri": "https://localhost:8080/"
        },
        "id": "zsgcO3zSfbAk",
        "outputId": "439e1997-fb96-4282-bce4-8aefcd768775"
      },
      "outputs": [
        {
          "name": "stdout",
          "output_type": "stream",
          "text": [
            "   gender  age  height  weight history favc  fcvc  ncp  caec smoke  ch2o scc  \\\n",
            "0  Female   21   162.0    64.0     yes   no   2.0  3.0   1.0    no   2.0  no   \n",
            "1    Male   23   180.0    77.0     yes   no   2.0  3.0   1.0    no   2.0  no   \n",
            "2    Male   27   180.0    87.0      no   no   3.0  3.0   1.0    no   2.0  no   \n",
            "3    Male   22   178.0    89.8      no   no   2.0  1.0   1.0    no   2.0  no   \n",
            "4    Male   29   162.0    53.0      no  yes   2.0  3.0   1.0    no   2.0  no   \n",
            "\n",
            "   faf  tue  bad_habits  calc                 mtrans  nobeyesdad  \n",
            "0  0.0  1.0           1   0.0  Public_Transportation         1.0  \n",
            "1  2.0  1.0           1   2.0  Public_Transportation         1.0  \n",
            "2  2.0  0.0           1   2.0                Walking         2.0  \n",
            "3  0.0  0.0           1   1.0  Public_Transportation         3.0  \n",
            "4  0.0  0.0           1   1.0             Automobile         1.0  \n"
          ]
        }
      ],
      "source": [
        "from sklearn.preprocessing import OrdinalEncoder\n",
        "\n",
        "# Define el orden de las categorías para cada variable\n",
        "caec_categories = ['no', 'Sometimes', 'Frequently', 'Always']\n",
        "calc_categories = ['no', 'Sometimes', 'Frequently', 'Always']\n",
        "nobeyesdad_categories = ['Insufficient_Weight', 'Normal_Weight', 'Overweight_Level_I', 'Overweight_Level_II', 'Obesity_Type_I', 'Obesity_Type_II', 'Obesity_Type_III']\n",
        "\n",
        "# Inicializa el codificador ordinal\n",
        "ordinal_encoder = OrdinalEncoder(categories=[caec_categories, calc_categories, nobeyesdad_categories])\n",
        "\n",
        "# Aplica el codificador ordinal a las columnas específicas\n",
        "obesity[['caec', 'calc', 'nobeyesdad']] = ordinal_encoder.fit_transform(obesity[['caec', 'calc', 'nobeyesdad']])\n",
        "\n",
        "# Muestra las primeras filas del DataFrame para verificar los cambios\n",
        "print(obesity.head())"
      ]
    },
    {
      "cell_type": "markdown",
      "metadata": {
        "id": "HMcmIcbjcSdQ"
      },
      "source": [
        "## Variables categóricas nominales"
      ]
    },
    {
      "cell_type": "code",
      "execution_count": 7,
      "metadata": {
        "colab": {
          "base_uri": "https://localhost:8080/"
        },
        "id": "VdlgMDugcavW",
        "outputId": "fafc778e-4d39-459e-a94f-c817d8a437cd"
      },
      "outputs": [
        {
          "name": "stdout",
          "output_type": "stream",
          "text": [
            "   gender  age  height  weight  history  favc  fcvc  ncp  caec  smoke  ch2o  \\\n",
            "0       0   21   162.0    64.0        1     0   2.0  3.0   1.0      0   2.0   \n",
            "1       1   23   180.0    77.0        1     0   2.0  3.0   1.0      0   2.0   \n",
            "2       1   27   180.0    87.0        0     0   3.0  3.0   1.0      0   2.0   \n",
            "3       1   22   178.0    89.8        0     0   2.0  1.0   1.0      0   2.0   \n",
            "4       1   29   162.0    53.0        0     1   2.0  3.0   1.0      0   2.0   \n",
            "\n",
            "   scc  faf  tue  bad_habits  calc                 mtrans  nobeyesdad  \n",
            "0    0  0.0  1.0           1   0.0  Public_Transportation         1.0  \n",
            "1    0  2.0  1.0           1   2.0  Public_Transportation         1.0  \n",
            "2    0  2.0  0.0           1   2.0                Walking         2.0  \n",
            "3    0  0.0  0.0           1   1.0  Public_Transportation         3.0  \n",
            "4    0  0.0  0.0           1   1.0             Automobile         1.0  \n"
          ]
        }
      ],
      "source": [
        "# Mapea las categorías 'yes' y 'no' a 1 y 0 respectivamente\n",
        "binary_map = {'yes': 1, 'no': 0}\n",
        "\n",
        "# Aplica la codificación a las columnas específicas\n",
        "obesity['history'] = obesity['history'].map(binary_map)\n",
        "obesity['favc'] = obesity['favc'].map(binary_map)\n",
        "obesity['smoke'] = obesity['smoke'].map(binary_map)\n",
        "obesity['scc'] = obesity['scc'].map(binary_map)\n",
        "\n",
        "# Codifica la columna 'gender' con 1 para 'Male' y 0 para 'Female'\n",
        "obesity['gender'] = obesity['gender'].map({'Female': 0, 'Male': 1}).astype(int)\n",
        "\n",
        "# Muestra las primeras filas del DataFrame para verificar los cambios\n",
        "print(obesity.head())"
      ]
    },
    {
      "cell_type": "markdown",
      "metadata": {
        "id": "VoaWNA1JhEb9"
      },
      "source": [
        "## Public transportation"
      ]
    },
    {
      "cell_type": "markdown",
      "metadata": {
        "id": "IlfshRCphIG-"
      },
      "source": [
        "En esta ultima igual sería interesante considerarla ordinal poner morotorbike/automobile/ Public_Transportation como 0 , walking como 1 y bike como 2, porque en realidad te da igual el tipo de transporte que sea. Luego asumo que bici mejor que caminar."
      ]
    },
    {
      "cell_type": "code",
      "execution_count": 8,
      "metadata": {
        "colab": {
          "base_uri": "https://localhost:8080/"
        },
        "id": "TqUzZMSuhDyW",
        "outputId": "e562eb89-efe3-471a-901e-3f14b4ed3506"
      },
      "outputs": [
        {
          "name": "stdout",
          "output_type": "stream",
          "text": [
            "   gender  age  height  weight  history  favc  fcvc  ncp  caec  smoke  ch2o  \\\n",
            "0       0   21   162.0    64.0        1     0   2.0  3.0   1.0      0   2.0   \n",
            "1       1   23   180.0    77.0        1     0   2.0  3.0   1.0      0   2.0   \n",
            "2       1   27   180.0    87.0        0     0   3.0  3.0   1.0      0   2.0   \n",
            "3       1   22   178.0    89.8        0     0   2.0  1.0   1.0      0   2.0   \n",
            "4       1   29   162.0    53.0        0     1   2.0  3.0   1.0      0   2.0   \n",
            "5       0   23   150.0    55.0        1     1   3.0  3.0   1.0      0   2.0   \n",
            "6       1   22   164.0    53.0        0     0   2.0  3.0   1.0      0   2.0   \n",
            "7       1   24   178.0    64.0        1     1   3.0  3.0   1.0      0   2.0   \n",
            "8       1   22   172.0    68.0        1     1   2.0  3.0   1.0      0   2.0   \n",
            "9       1   26   185.0   105.0        1     1   3.0  3.0   2.0      0   3.0   \n",
            "\n",
            "   scc  faf  tue  bad_habits  calc  mtrans  nobeyesdad  \n",
            "0    0  0.0  1.0           1   0.0     0.0         1.0  \n",
            "1    0  2.0  1.0           1   2.0     0.0         1.0  \n",
            "2    0  2.0  0.0           1   2.0     1.0         2.0  \n",
            "3    0  0.0  0.0           1   1.0     0.0         3.0  \n",
            "4    0  0.0  0.0           1   1.0     0.0         1.0  \n",
            "5    0  1.0  0.0           1   1.0     0.0         1.0  \n",
            "6    0  3.0  0.0           1   1.0     0.0         1.0  \n",
            "7    0  1.0  1.0           1   2.0     0.0         1.0  \n",
            "8    0  1.0  1.0           1   0.0     0.0         1.0  \n",
            "9    0  2.0  2.0           1   1.0     0.0         4.0  \n"
          ]
        }
      ],
      "source": [
        "from sklearn.preprocessing import OrdinalEncoder\n",
        "\n",
        "# Reemplazar 'Motorbike', 'Automobile' y 'Public_Transportation' por 'Transport'\n",
        "obesity['mtrans'] = obesity['mtrans'].replace(['Motorbike', 'Automobile', 'Public_Transportation'], 'Transport')\n",
        "\n",
        "# Definir el orden de las categorías para el codificador ordinal\n",
        "mtrans_categories = ['Transport', 'Walking', 'Bike']\n",
        "\n",
        "# Inicializar el codificador ordinal\n",
        "ordinal_encoder_mtrans = OrdinalEncoder(categories=[mtrans_categories])\n",
        "\n",
        "# Aplicar el codificador ordinal a la columna 'mtrans'\n",
        "obesity['mtrans'] = ordinal_encoder_mtrans.fit_transform(obesity[['mtrans']])\n",
        "\n",
        "# Mostrar las primeras filas del DataFrame para verificar los cambios\n",
        "print(obesity.head(10))"
      ]
    },
    {
      "cell_type": "markdown",
      "metadata": {
        "id": "WNc9XivClt2M"
      },
      "source": [
        "# **Matriz de correlaciones** (reducir multicolinealidad)"
      ]
    },
    {
      "cell_type": "markdown",
      "metadata": {
        "id": "W5jTavk-o4rN"
      },
      "source": [
        "## Matriz"
      ]
    },
    {
      "cell_type": "code",
      "execution_count": 9,
      "metadata": {
        "colab": {
          "base_uri": "https://localhost:8080/",
          "height": 923
        },
        "id": "InVhDzoJltZo",
        "outputId": "a4127157-a645-4c23-f4ae-1b0acc1077c2"
      },
      "outputs": [
        {
          "data": {
            "image/png": "[encoded data removed]",
            "text/plain": [
              "<Figure size 1200x1000 with 2 Axes>"
            ]
          },
          "metadata": {},
          "output_type": "display_data"
        }
      ],
      "source": [
        "import seaborn as sns\n",
        "import matplotlib.pyplot as plt\n",
        "\n",
        "# Calcula la matriz de correlación\n",
        "correlation_matrix = obesity.corr()\n",
        "\n",
        "# Crea un mapa de calor de la matriz de correlación\n",
        "plt.figure(figsize=(12, 10))\n",
        "sns.heatmap(correlation_matrix, annot=True, cmap='coolwarm', fmt=\".2f\", annot_kws={\"size\": 10})\n",
        "plt.title(\"Matriz de Correlación\")\n",
        "plt.show()"
      ]
    },
    {
      "cell_type": "code",
      "execution_count": 10,
      "metadata": {
        "colab": {
          "base_uri": "https://localhost:8080/"
        },
        "id": "CZF9ZC5gmUMc",
        "outputId": "556a772d-293f-4187-e455-39d054846f5b"
      },
      "outputs": [
        {
          "name": "stdout",
          "output_type": "stream",
          "text": [
            "       level_0     level_1         0\n",
            "4       weight  nobeyesdad  0.914311\n",
            "11       smoke  bad_habits -1.000000\n",
            "16  bad_habits       smoke -1.000000\n",
            "20  nobeyesdad      weight  0.914311\n"
          ]
        }
      ],
      "source": [
        "# Calcular la matriz de correlación\n",
        "correlation_matrix = obesity.corr()\n",
        "\n",
        "# Filtrar las variables con correlación mayor que 0.7 (o cualquier otro umbral deseado)\n",
        "high_correlation_vars = correlation_matrix[abs(correlation_matrix) > 0.7].stack().reset_index()\n",
        "high_correlation_vars = high_correlation_vars[high_correlation_vars['level_0'] != high_correlation_vars['level_1']]\n",
        "\n",
        "# Mostrar las variables con correlación mayor que 0.7\n",
        "print(high_correlation_vars)"
      ]
    },
    {
      "cell_type": "markdown",
      "metadata": {
        "id": "aWCeuWi7owwa"
      },
      "source": [
        "## Conclusión matriz de correlación\n",
        "\n",
        "Claramente **smoke y bad habits** es lo mismo, habrá que quitar una de las dos.\n",
        "\n",
        "Además, nos sale que weight está muy correlacionada con la variable objetivo.\n",
        "\n",
        "*Con esto me entran dudas de qué información aporta weigth en realidad, es el peso el que define las categorías*\n",
        "\n",
        "\n",
        "Bajando a 0.6 nos sale gender y heigth correlacionadas, se ve que no hay mucha correlación entre variables... **POR AHORA SÓLO QUITAMOS BAD_HABITS**"
      ]
    },
    {
      "cell_type": "markdown",
      "metadata": {
        "id": "dVpXgbrynuVz"
      },
      "source": [
        "# **VIF**"
      ]
    },
    {
      "cell_type": "markdown",
      "metadata": {
        "id": "52r6gu1-pCcq"
      },
      "source": [
        "## Cálculo"
      ]
    },
    {
      "cell_type": "code",
      "execution_count": 11,
      "metadata": {
        "colab": {
          "base_uri": "https://localhost:8080/"
        },
        "id": "t1yW0VVrnw54",
        "outputId": "d735bdad-7d20-4a5e-b16f-20407c736b97"
      },
      "outputs": [
        {
          "data": {
            "text/plain": [
              "17"
            ]
          },
          "execution_count": 11,
          "metadata": {},
          "output_type": "execute_result"
        }
      ],
      "source": [
        "from statsmodels.stats.outliers_influence import variance_inflation_factor\n",
        "dfvif = obesity.drop('nobeyesdad', axis=1) #eliminamos la columna de la variable respuesta Y.\n",
        "dfvif.shape[1] #hacemos la comprobación"
      ]
    },
    {
      "cell_type": "code",
      "execution_count": 12,
      "metadata": {
        "id": "E7Ojq4ZAoW5F"
      },
      "outputs": [],
      "source": [
        "def estandariza(data_features):\n",
        "    data_features = (data_features - data_features.mean()) /   data_features.std()\n",
        "    return data_features"
      ]
    },
    {
      "cell_type": "code",
      "execution_count": 13,
      "metadata": {
        "colab": {
          "base_uri": "https://localhost:8080/",
          "height": 206
        },
        "id": "nvdydKWLoYk9",
        "outputId": "0e0306c4-d679-4e83-ac20-23deffc879a6"
      },
      "outputs": [
        {
          "data": {
            "text/html": [
              "<div>\n",
              "<style scoped>\n",
              "    .dataframe tbody tr th:only-of-type {\n",
              "        vertical-align: middle;\n",
              "    }\n",
              "\n",
              "    .dataframe tbody tr th {\n",
              "        vertical-align: top;\n",
              "    }\n",
              "\n",
              "    .dataframe thead th {\n",
              "        text-align: right;\n",
              "    }\n",
              "</style>\n",
              "<table border=\"1\" class=\"dataframe\">\n",
              "  <thead>\n",
              "    <tr style=\"text-align: right;\">\n",
              "      <th></th>\n",
              "      <th>gender</th>\n",
              "      <th>age</th>\n",
              "      <th>height</th>\n",
              "      <th>weight</th>\n",
              "      <th>history</th>\n",
              "      <th>favc</th>\n",
              "      <th>fcvc</th>\n",
              "      <th>ncp</th>\n",
              "      <th>caec</th>\n",
              "      <th>smoke</th>\n",
              "      <th>ch2o</th>\n",
              "      <th>scc</th>\n",
              "      <th>faf</th>\n",
              "      <th>tue</th>\n",
              "      <th>bad_habits</th>\n",
              "      <th>calc</th>\n",
              "      <th>mtrans</th>\n",
              "    </tr>\n",
              "  </thead>\n",
              "  <tbody>\n",
              "    <tr>\n",
              "      <th>0</th>\n",
              "      <td>-1.005398</td>\n",
              "      <td>-0.462036</td>\n",
              "      <td>-0.841002</td>\n",
              "      <td>-0.841267</td>\n",
              "      <td>0.478426</td>\n",
              "      <td>-2.758503</td>\n",
              "      <td>-0.781975</td>\n",
              "      <td>0.396865</td>\n",
              "      <td>-0.307573</td>\n",
              "      <td>-0.144992</td>\n",
              "      <td>-0.004204</td>\n",
              "      <td>-0.21688</td>\n",
              "      <td>-1.221300</td>\n",
              "      <td>0.539325</td>\n",
              "      <td>0.144992</td>\n",
              "      <td>-1.413163</td>\n",
              "      <td>-0.166081</td>\n",
              "    </tr>\n",
              "    <tr>\n",
              "      <th>1</th>\n",
              "      <td>0.994165</td>\n",
              "      <td>-0.144600</td>\n",
              "      <td>1.095332</td>\n",
              "      <td>-0.343828</td>\n",
              "      <td>0.478426</td>\n",
              "      <td>-2.758503</td>\n",
              "      <td>-0.781975</td>\n",
              "      <td>0.396865</td>\n",
              "      <td>-0.307573</td>\n",
              "      <td>-0.144992</td>\n",
              "      <td>-0.004204</td>\n",
              "      <td>-0.21688</td>\n",
              "      <td>1.116032</td>\n",
              "      <td>0.539325</td>\n",
              "      <td>0.144992</td>\n",
              "      <td>2.464186</td>\n",
              "      <td>-0.166081</td>\n",
              "    </tr>\n",
              "    <tr>\n",
              "      <th>2</th>\n",
              "      <td>0.994165</td>\n",
              "      <td>0.490272</td>\n",
              "      <td>1.095332</td>\n",
              "      <td>0.038818</td>\n",
              "      <td>-2.089208</td>\n",
              "      <td>-2.758503</td>\n",
              "      <td>1.088188</td>\n",
              "      <td>0.396865</td>\n",
              "      <td>-0.307573</td>\n",
              "      <td>-0.144992</td>\n",
              "      <td>-0.004204</td>\n",
              "      <td>-0.21688</td>\n",
              "      <td>1.116032</td>\n",
              "      <td>-1.094855</td>\n",
              "      <td>0.144992</td>\n",
              "      <td>2.464186</td>\n",
              "      <td>4.975197</td>\n",
              "    </tr>\n",
              "    <tr>\n",
              "      <th>3</th>\n",
              "      <td>0.994165</td>\n",
              "      <td>-0.303318</td>\n",
              "      <td>0.880184</td>\n",
              "      <td>0.145959</td>\n",
              "      <td>-2.089208</td>\n",
              "      <td>-2.758503</td>\n",
              "      <td>-0.781975</td>\n",
              "      <td>-2.168244</td>\n",
              "      <td>-0.307573</td>\n",
              "      <td>-0.144992</td>\n",
              "      <td>-0.004204</td>\n",
              "      <td>-0.21688</td>\n",
              "      <td>-1.221300</td>\n",
              "      <td>-1.094855</td>\n",
              "      <td>0.144992</td>\n",
              "      <td>0.525511</td>\n",
              "      <td>-0.166081</td>\n",
              "    </tr>\n",
              "    <tr>\n",
              "      <th>4</th>\n",
              "      <td>0.994165</td>\n",
              "      <td>0.807708</td>\n",
              "      <td>-0.841002</td>\n",
              "      <td>-1.262177</td>\n",
              "      <td>-2.089208</td>\n",
              "      <td>0.362346</td>\n",
              "      <td>-0.781975</td>\n",
              "      <td>0.396865</td>\n",
              "      <td>-0.307573</td>\n",
              "      <td>-0.144992</td>\n",
              "      <td>-0.004204</td>\n",
              "      <td>-0.21688</td>\n",
              "      <td>-1.221300</td>\n",
              "      <td>-1.094855</td>\n",
              "      <td>0.144992</td>\n",
              "      <td>0.525511</td>\n",
              "      <td>-0.166081</td>\n",
              "    </tr>\n",
              "  </tbody>\n",
              "</table>\n",
              "</div>"
            ],
            "text/plain": [
              "     gender       age    height    weight   history      favc      fcvc  \\\n",
              "0 -1.005398 -0.462036 -0.841002 -0.841267  0.478426 -2.758503 -0.781975   \n",
              "1  0.994165 -0.144600  1.095332 -0.343828  0.478426 -2.758503 -0.781975   \n",
              "2  0.994165  0.490272  1.095332  0.038818 -2.089208 -2.758503  1.088188   \n",
              "3  0.994165 -0.303318  0.880184  0.145959 -2.089208 -2.758503 -0.781975   \n",
              "4  0.994165  0.807708 -0.841002 -1.262177 -2.089208  0.362346 -0.781975   \n",
              "\n",
              "        ncp      caec     smoke      ch2o      scc       faf       tue  \\\n",
              "0  0.396865 -0.307573 -0.144992 -0.004204 -0.21688 -1.221300  0.539325   \n",
              "1  0.396865 -0.307573 -0.144992 -0.004204 -0.21688  1.116032  0.539325   \n",
              "2  0.396865 -0.307573 -0.144992 -0.004204 -0.21688  1.116032 -1.094855   \n",
              "3 -2.168244 -0.307573 -0.144992 -0.004204 -0.21688 -1.221300 -1.094855   \n",
              "4  0.396865 -0.307573 -0.144992 -0.004204 -0.21688 -1.221300 -1.094855   \n",
              "\n",
              "   bad_habits      calc    mtrans  \n",
              "0    0.144992 -1.413163 -0.166081  \n",
              "1    0.144992  2.464186 -0.166081  \n",
              "2    0.144992  2.464186  4.975197  \n",
              "3    0.144992  0.525511 -0.166081  \n",
              "4    0.144992  0.525511 -0.166081  "
            ]
          },
          "execution_count": 13,
          "metadata": {},
          "output_type": "execute_result"
        }
      ],
      "source": [
        "dfvif_estan = dfvif.apply(estandariza, axis=0)\n",
        "dfvif_estan.head()"
      ]
    },
    {
      "cell_type": "code",
      "execution_count": 14,
      "metadata": {
        "colab": {
          "base_uri": "https://localhost:8080/",
          "height": 617
        },
        "id": "osc7pWeMobW-",
        "outputId": "3435d1a8-0741-4856-93e3-a3ce994d23fb"
      },
      "outputs": [
        {
          "name": "stderr",
          "output_type": "stream",
          "text": [
            "c:\\Users\\usuario\\anaconda3\\envs\\TFGr\\lib\\site-packages\\statsmodels\\stats\\outliers_influence.py:198: RuntimeWarning: divide by zero encountered in scalar divide\n",
            "  vif = 1. / (1. - r_squared_i)\n"
          ]
        },
        {
          "data": {
            "text/html": [
              "<div>\n",
              "<style scoped>\n",
              "    .dataframe tbody tr th:only-of-type {\n",
              "        vertical-align: middle;\n",
              "    }\n",
              "\n",
              "    .dataframe tbody tr th {\n",
              "        vertical-align: top;\n",
              "    }\n",
              "\n",
              "    .dataframe thead th {\n",
              "        text-align: right;\n",
              "    }\n",
              "</style>\n",
              "<table border=\"1\" class=\"dataframe\">\n",
              "  <thead>\n",
              "    <tr style=\"text-align: right;\">\n",
              "      <th></th>\n",
              "      <th>Variable</th>\n",
              "      <th>VIF</th>\n",
              "    </tr>\n",
              "  </thead>\n",
              "  <tbody>\n",
              "    <tr>\n",
              "      <th>16</th>\n",
              "      <td>mtrans</td>\n",
              "      <td>1.063022</td>\n",
              "    </tr>\n",
              "    <tr>\n",
              "      <th>11</th>\n",
              "      <td>scc</td>\n",
              "      <td>1.097699</td>\n",
              "    </tr>\n",
              "    <tr>\n",
              "      <th>7</th>\n",
              "      <td>ncp</td>\n",
              "      <td>1.101380</td>\n",
              "    </tr>\n",
              "    <tr>\n",
              "      <th>10</th>\n",
              "      <td>ch2o</td>\n",
              "      <td>1.118818</td>\n",
              "    </tr>\n",
              "    <tr>\n",
              "      <th>15</th>\n",
              "      <td>calc</td>\n",
              "      <td>1.121404</td>\n",
              "    </tr>\n",
              "    <tr>\n",
              "      <th>13</th>\n",
              "      <td>tue</td>\n",
              "      <td>1.136560</td>\n",
              "    </tr>\n",
              "    <tr>\n",
              "      <th>8</th>\n",
              "      <td>caec</td>\n",
              "      <td>1.189253</td>\n",
              "    </tr>\n",
              "    <tr>\n",
              "      <th>5</th>\n",
              "      <td>favc</td>\n",
              "      <td>1.189591</td>\n",
              "    </tr>\n",
              "    <tr>\n",
              "      <th>12</th>\n",
              "      <td>faf</td>\n",
              "      <td>1.212192</td>\n",
              "    </tr>\n",
              "    <tr>\n",
              "      <th>6</th>\n",
              "      <td>fcvc</td>\n",
              "      <td>1.223605</td>\n",
              "    </tr>\n",
              "    <tr>\n",
              "      <th>1</th>\n",
              "      <td>age</td>\n",
              "      <td>1.231926</td>\n",
              "    </tr>\n",
              "    <tr>\n",
              "      <th>4</th>\n",
              "      <td>history</td>\n",
              "      <td>1.453445</td>\n",
              "    </tr>\n",
              "    <tr>\n",
              "      <th>0</th>\n",
              "      <td>gender</td>\n",
              "      <td>1.909872</td>\n",
              "    </tr>\n",
              "    <tr>\n",
              "      <th>3</th>\n",
              "      <td>weight</td>\n",
              "      <td>2.103141</td>\n",
              "    </tr>\n",
              "    <tr>\n",
              "      <th>2</th>\n",
              "      <td>height</td>\n",
              "      <td>2.537433</td>\n",
              "    </tr>\n",
              "    <tr>\n",
              "      <th>9</th>\n",
              "      <td>smoke</td>\n",
              "      <td>inf</td>\n",
              "    </tr>\n",
              "    <tr>\n",
              "      <th>14</th>\n",
              "      <td>bad_habits</td>\n",
              "      <td>inf</td>\n",
              "    </tr>\n",
              "  </tbody>\n",
              "</table>\n",
              "</div>"
            ],
            "text/plain": [
              "      Variable       VIF\n",
              "16      mtrans  1.063022\n",
              "11         scc  1.097699\n",
              "7          ncp  1.101380\n",
              "10        ch2o  1.118818\n",
              "15        calc  1.121404\n",
              "13         tue  1.136560\n",
              "8         caec  1.189253\n",
              "5         favc  1.189591\n",
              "12         faf  1.212192\n",
              "6         fcvc  1.223605\n",
              "1          age  1.231926\n",
              "4      history  1.453445\n",
              "0       gender  1.909872\n",
              "3       weight  2.103141\n",
              "2       height  2.537433\n",
              "9        smoke       inf\n",
              "14  bad_habits       inf"
            ]
          },
          "execution_count": 14,
          "metadata": {},
          "output_type": "execute_result"
        }
      ],
      "source": [
        "vif_estan = [[dfvif_estan.columns[i], variance_inflation_factor(dfvif_estan.to_numpy(), i)] for i in range(dfvif.shape[1])]\n",
        "df_vif_estan=pd.DataFrame(vif_estan)\n",
        "df_vif_estan=df_vif_estan.rename(columns = {0:'Variable',1:'VIF'})\n",
        "df_vif_estan.sort_values(by=['VIF'],ascending=True)"
      ]
    },
    {
      "cell_type": "markdown",
      "metadata": {
        "id": "ot32WtEypHOJ"
      },
      "source": [
        "## Conclusión\n",
        "\n",
        "Todos los valores del VIF dan muy bajos, tampoco eliminamos ninguna variable según el VIF."
      ]
    },
    {
      "cell_type": "markdown",
      "metadata": {
        "id": "aIUOmnf8phDG"
      },
      "source": [
        "# Selección univariante de variables predictoras (cuáles están más correlacionadas con la variable objetivo)"
      ]
    },
    {
      "cell_type": "markdown",
      "metadata": {
        "id": "YQic30TPs1cX"
      },
      "source": [
        "## Test T"
      ]
    },
    {
      "cell_type": "markdown",
      "metadata": {
        "id": "NGOVf_J_sibL"
      },
      "source": [
        "### Cálculo"
      ]
    },
    {
      "cell_type": "code",
      "execution_count": 15,
      "metadata": {
        "colab": {
          "base_uri": "https://localhost:8080/"
        },
        "id": "n12N9dZFpprp",
        "outputId": "4ab429a2-c37f-4479-ed91-172449a66b32"
      },
      "outputs": [
        {
          "name": "stdout",
          "output_type": "stream",
          "text": [
            "                            OLS Regression Results                            \n",
            "==============================================================================\n",
            "Dep. Variable:             nobeyesdad   R-squared:                       0.951\n",
            "Model:                            OLS   Adj. R-squared:                  0.950\n",
            "Method:                 Least Squares   F-statistic:                     2545.\n",
            "Date:                Fri, 12 Apr 2024   Prob (F-statistic):               0.00\n",
            "Time:                        11:19:29   Log-Likelihood:                -1301.8\n",
            "No. Observations:                2136   AIC:                             2638.\n",
            "Df Residuals:                    2119   BIC:                             2734.\n",
            "Df Model:                          16                                         \n",
            "Covariance Type:            nonrobust                                         \n",
            "==============================================================================\n",
            "                 coef    std err          t      P>|t|      [0.025      0.975]\n",
            "------------------------------------------------------------------------------\n",
            "const          6.0415      0.172     35.099      0.000       5.704       6.379\n",
            "gender         0.0665      0.027      2.487      0.013       0.014       0.119\n",
            "age            0.0135      0.002      7.902      0.000       0.010       0.017\n",
            "height        -0.0774      0.002    -46.680      0.000      -0.081      -0.074\n",
            "weight         0.0783      0.001    145.851      0.000       0.077       0.079\n",
            "history        0.3095      0.030     10.337      0.000       0.251       0.368\n",
            "favc           0.0411      0.033      1.247      0.212      -0.023       0.106\n",
            "fcvc          -0.0058      0.020     -0.292      0.770      -0.045       0.033\n",
            "ncp            0.0259      0.013      1.991      0.047       0.000       0.051\n",
            "caec          -0.1448      0.022     -6.456      0.000      -0.189      -0.101\n",
            "smoke          2.9905      0.099     30.254      0.000       2.797       3.184\n",
            "ch2o          -0.0160      0.017     -0.958      0.338      -0.049       0.017\n",
            "scc           -0.0921      0.049     -1.883      0.060      -0.188       0.004\n",
            "faf           -0.0556      0.012     -4.470      0.000      -0.080      -0.031\n",
            "tue           -0.0046      0.017     -0.274      0.784      -0.038       0.028\n",
            "bad_habits     3.0511      0.086     35.361      0.000       2.882       3.220\n",
            "calc          -0.0589      0.020     -2.964      0.003      -0.098      -0.020\n",
            "mtrans        -0.0553      0.051     -1.078      0.281      -0.156       0.045\n",
            "==============================================================================\n",
            "Omnibus:                      129.847   Durbin-Watson:                   1.228\n",
            "Prob(Omnibus):                  0.000   Jarque-Bera (JB):              362.182\n",
            "Skew:                          -0.306   Prob(JB):                     2.25e-79\n",
            "Kurtosis:                       4.922   Cond. No.                     5.19e+16\n",
            "==============================================================================\n",
            "\n",
            "Notes:\n",
            "[1] Standard Errors assume that the covariance matrix of the errors is correctly specified.\n",
            "[2] The smallest eigenvalue is 2.94e-26. This might indicate that there are\n",
            "strong multicollinearity problems or that the design matrix is singular.\n"
          ]
        }
      ],
      "source": [
        "import statsmodels.api as sm\n",
        "\n",
        "# Definir la variable dependiente Y\n",
        "Y = obesity['nobeyesdad']\n",
        "\n",
        "# Añadir una columna de unos como constante para X\n",
        "X_with_const = sm.add_constant(obesity.drop(columns=['nobeyesdad']))\n",
        "\n",
        "# Inicializar y ajustar el modelo de regresión lineal\n",
        "model = sm.OLS(Y, X_with_const)\n",
        "results = model.fit()\n",
        "\n",
        "# Mostrar el resumen del modelo\n",
        "print(results.summary())"
      ]
    },
    {
      "cell_type": "markdown",
      "metadata": {
        "id": "WNQiuckDrYFj"
      },
      "source": [
        "Para valores de *p* $\\le$ 0.05 consideramos que existe una relación lineal entre la variable predictora y la variable respuesta."
      ]
    },
    {
      "cell_type": "markdown",
      "metadata": {
        "id": "q1-ol00ir3ke"
      },
      "source": [
        "### Conclusión\n",
        "Las variables con valores p superiores a 0.05 generalmente no se consideran estadísticamente significativas en el modelo. En tu resumen, las variables con valores p superiores a 0.05 son:\n",
        "\n",
        "**CONSIDERARÍAMOS QUITAR:** **'favc', 'fcvc', 'ch2o', 'scc', 'tue' y 'mtrans'**\n",
        "Estos valores p indican que no hay suficiente evidencia para rechazar la hipótesis nula de que los coeficientes de estas variables son iguales a cero. En otras palabras, no podemos decir con confianza que estas variables tienen un efecto significativo en la variable dependiente 'nobeyesdad' en este modelo."
      ]
    },
    {
      "cell_type": "markdown",
      "metadata": {
        "id": "j6za0TM2vqyr"
      },
      "source": [
        "## Select K Best R regression"
      ]
    },
    {
      "cell_type": "markdown",
      "metadata": {
        "id": "ynnIsUgvvyyG"
      },
      "source": [
        "## Cálculo"
      ]
    },
    {
      "cell_type": "code",
      "execution_count": 16,
      "metadata": {
        "colab": {
          "base_uri": "https://localhost:8080/"
        },
        "id": "wVtDw1FjtNeF",
        "outputId": "351b46a8-7e41-4c01-c705-bcd916fbc67b"
      },
      "outputs": [
        {
          "data": {
            "text/plain": [
              "(2136, 11)"
            ]
          },
          "execution_count": 16,
          "metadata": {},
          "output_type": "execute_result"
        }
      ],
      "source": [
        "from sklearn.feature_selection import r_regression, SelectKBest\n",
        "rselect = SelectKBest(r_regression, k=11) # Seleccionamos las mejores 4, 6 y 8 variables predictoras\n",
        "rselect.fit_transform(X_with_const, Y)\n",
        "rselect.transform(X_with_const).shape #comprobamos el número k en la posición del número de columnas"
      ]
    },
    {
      "cell_type": "code",
      "execution_count": 17,
      "metadata": {
        "colab": {
          "base_uri": "https://localhost:8080/"
        },
        "id": "Gigve_Q1tThn",
        "outputId": "09bcac78-8be6-4074-ab3b-9a5b50cda3ee"
      },
      "outputs": [
        {
          "name": "stdout",
          "output_type": "stream",
          "text": [
            "[ 0  2  3  4  5  6  7  8 10 11 16]\n"
          ]
        }
      ],
      "source": [
        "rfilter = rselect.get_support(indices=True) #la numeración de rfilter empieza en 0 en el mismo orden de columnas de X donde 0==x1 para OLS\n",
        "print(rfilter)"
      ]
    },
    {
      "cell_type": "code",
      "execution_count": 18,
      "metadata": {
        "id": "WIfsqNtCtope"
      },
      "outputs": [],
      "source": [
        "from sklearn.preprocessing import StandardScaler #importamos la librería para estandarizar\n",
        "scalerX = StandardScaler()\n",
        "lista_columnas=obesity.columns[0:len(obesity.columns)-1]\n",
        "obesity[lista_columnas] = scalerX.fit_transform(obesity[lista_columnas])"
      ]
    },
    {
      "cell_type": "code",
      "execution_count": 19,
      "metadata": {
        "id": "Y4zdoupQt7bo"
      },
      "outputs": [],
      "source": [
        "import numpy as np\n",
        "scalerY = StandardScaler()\n",
        "obesity['nobeyesdad']=scalerY.fit_transform(np.array(obesity['nobeyesdad']).reshape(len(obesity['nobeyesdad']),1)).reshape(len(obesity['nobeyesdad']))"
      ]
    },
    {
      "cell_type": "code",
      "execution_count": 20,
      "metadata": {
        "colab": {
          "base_uri": "https://localhost:8080/"
        },
        "id": "5D9jtWnLtgUq",
        "outputId": "73fa9850-4947-4d8b-fef3-ade65c9dbffb"
      },
      "outputs": [
        {
          "data": {
            "text/plain": [
              "0      gender\n",
              "2      height\n",
              "3      weight\n",
              "4     history\n",
              "5        favc\n",
              "6        fcvc\n",
              "7         ncp\n",
              "8        caec\n",
              "10       ch2o\n",
              "11        scc\n",
              "16     mtrans\n",
              "Name: Variable predictora, dtype: object"
            ]
          },
          "execution_count": 20,
          "metadata": {},
          "output_type": "execute_result"
        }
      ],
      "source": [
        "#VARIABLES MÁS CORRELACIONADAS CON LA VARIABLE OBJETIVO\n",
        "dflista_columnas=pd.DataFrame(lista_columnas)\n",
        "dflista_columnas=dflista_columnas.rename(columns={0:'Variable predictora'})\n",
        "dfKBest_r=dflista_columnas.iloc[rfilter, 0]\n",
        "dfKBest_r"
      ]
    },
    {
      "cell_type": "markdown",
      "metadata": {
        "id": "m5r_9l4yv2LW"
      },
      "source": [
        "## Conclusión\n",
        "Las variables menos correlacionadas y que **CONSIDERARÍAMOS QUITAR** serían **age, smoke y bad_habits, faf, tue y calc** (las restantes)"
      ]
    },
    {
      "cell_type": "markdown",
      "metadata": {
        "id": "1gltQ5-2bRWQ"
      },
      "source": [
        "Entre estas y las de antes sólo coincide **tue**. Podríamos considerar tb **ch20, scc y mtrans,** que son las siguientes menos correlacionadas que coinciden con las anteriores"
      ]
    },
    {
      "cell_type": "markdown",
      "metadata": {
        "id": "bEGCjtmRtBOe"
      },
      "source": [
        "## Test F"
      ]
    },
    {
      "cell_type": "markdown",
      "metadata": {
        "id": "0saDSETMeIQz"
      },
      "source": [
        "### Cálculo"
      ]
    },
    {
      "cell_type": "code",
      "execution_count": 21,
      "metadata": {
        "id": "xq--A5t2dPtO"
      },
      "outputs": [],
      "source": [
        "X = obesity.drop(['nobeyesdad'],axis=1).values\n",
        "Y = obesity['nobeyesdad'].values"
      ]
    },
    {
      "cell_type": "code",
      "execution_count": 22,
      "metadata": {
        "colab": {
          "base_uri": "https://localhost:8080/"
        },
        "id": "oHtQKBz_c8-P",
        "outputId": "a15ad071-6a60-47e3-ecb0-5455e43a5207"
      },
      "outputs": [
        {
          "name": "stdout",
          "output_type": "stream",
          "text": [
            "Los valores de F: [9.65768564e-01 1.81460285e+02 3.06822939e+01 1.08753245e+04\n",
            " 7.36830069e+02 1.33974171e+02 1.08371145e+02 3.99208111e-01\n",
            " 2.68951705e+02 7.76779227e-02 3.95028749e+01 7.79851819e+01\n",
            " 7.97028693e+01 2.47343263e+01 7.76779227e-02 5.32415848e+01\n",
            " 3.54369717e+01]\n"
          ]
        }
      ],
      "source": [
        "from sklearn.feature_selection import f_regression\n",
        "f_values, p_values = f_regression(X, Y)\n",
        "#psorted_values = p_values.sort()\n",
        "#fsorted_values = f_values.sort()\n",
        "#print(\"Los valores de p:\", p_values)\n",
        "print(\"Los valores de F:\", f_values)"
      ]
    },
    {
      "cell_type": "code",
      "execution_count": 23,
      "metadata": {
        "colab": {
          "base_uri": "https://localhost:8080/",
          "height": 582
        },
        "id": "Y3yhamADduUQ",
        "outputId": "4d788f88-7bed-4d01-ed02-1408bd9c7383"
      },
      "outputs": [
        {
          "data": {
            "text/html": [
              "<div>\n",
              "<style scoped>\n",
              "    .dataframe tbody tr th:only-of-type {\n",
              "        vertical-align: middle;\n",
              "    }\n",
              "\n",
              "    .dataframe tbody tr th {\n",
              "        vertical-align: top;\n",
              "    }\n",
              "\n",
              "    .dataframe thead th {\n",
              "        text-align: right;\n",
              "    }\n",
              "</style>\n",
              "<table border=\"1\" class=\"dataframe\">\n",
              "  <thead>\n",
              "    <tr style=\"text-align: right;\">\n",
              "      <th></th>\n",
              "      <th>Variable predictora</th>\n",
              "      <th>F</th>\n",
              "    </tr>\n",
              "  </thead>\n",
              "  <tbody>\n",
              "    <tr>\n",
              "      <th>0</th>\n",
              "      <td>gender</td>\n",
              "      <td>0.965769</td>\n",
              "    </tr>\n",
              "    <tr>\n",
              "      <th>1</th>\n",
              "      <td>age</td>\n",
              "      <td>181.460285</td>\n",
              "    </tr>\n",
              "    <tr>\n",
              "      <th>2</th>\n",
              "      <td>height</td>\n",
              "      <td>30.682294</td>\n",
              "    </tr>\n",
              "    <tr>\n",
              "      <th>3</th>\n",
              "      <td>weight</td>\n",
              "      <td>10875.324474</td>\n",
              "    </tr>\n",
              "    <tr>\n",
              "      <th>4</th>\n",
              "      <td>history</td>\n",
              "      <td>736.830069</td>\n",
              "    </tr>\n",
              "    <tr>\n",
              "      <th>5</th>\n",
              "      <td>favc</td>\n",
              "      <td>133.974171</td>\n",
              "    </tr>\n",
              "    <tr>\n",
              "      <th>6</th>\n",
              "      <td>fcvc</td>\n",
              "      <td>108.371145</td>\n",
              "    </tr>\n",
              "    <tr>\n",
              "      <th>7</th>\n",
              "      <td>ncp</td>\n",
              "      <td>0.399208</td>\n",
              "    </tr>\n",
              "    <tr>\n",
              "      <th>8</th>\n",
              "      <td>caec</td>\n",
              "      <td>268.951705</td>\n",
              "    </tr>\n",
              "    <tr>\n",
              "      <th>9</th>\n",
              "      <td>smoke</td>\n",
              "      <td>0.077678</td>\n",
              "    </tr>\n",
              "    <tr>\n",
              "      <th>10</th>\n",
              "      <td>ch2o</td>\n",
              "      <td>39.502875</td>\n",
              "    </tr>\n",
              "    <tr>\n",
              "      <th>11</th>\n",
              "      <td>scc</td>\n",
              "      <td>77.985182</td>\n",
              "    </tr>\n",
              "    <tr>\n",
              "      <th>12</th>\n",
              "      <td>faf</td>\n",
              "      <td>79.702869</td>\n",
              "    </tr>\n",
              "    <tr>\n",
              "      <th>13</th>\n",
              "      <td>tue</td>\n",
              "      <td>24.734326</td>\n",
              "    </tr>\n",
              "    <tr>\n",
              "      <th>14</th>\n",
              "      <td>bad_habits</td>\n",
              "      <td>0.077678</td>\n",
              "    </tr>\n",
              "    <tr>\n",
              "      <th>15</th>\n",
              "      <td>calc</td>\n",
              "      <td>53.241585</td>\n",
              "    </tr>\n",
              "    <tr>\n",
              "      <th>16</th>\n",
              "      <td>mtrans</td>\n",
              "      <td>35.436972</td>\n",
              "    </tr>\n",
              "  </tbody>\n",
              "</table>\n",
              "</div>"
            ],
            "text/plain": [
              "   Variable predictora             F\n",
              "0               gender      0.965769\n",
              "1                  age    181.460285\n",
              "2               height     30.682294\n",
              "3               weight  10875.324474\n",
              "4              history    736.830069\n",
              "5                 favc    133.974171\n",
              "6                 fcvc    108.371145\n",
              "7                  ncp      0.399208\n",
              "8                 caec    268.951705\n",
              "9                smoke      0.077678\n",
              "10                ch2o     39.502875\n",
              "11                 scc     77.985182\n",
              "12                 faf     79.702869\n",
              "13                 tue     24.734326\n",
              "14          bad_habits      0.077678\n",
              "15                calc     53.241585\n",
              "16              mtrans     35.436972"
            ]
          },
          "execution_count": 23,
          "metadata": {},
          "output_type": "execute_result"
        }
      ],
      "source": [
        "#dfp_values=pd.DataFrame(p_values)\n",
        "#dfp_values=dfp_values.rename(columns = {0:'p'})\n",
        "dff_values=pd.DataFrame(f_values)\n",
        "dff_values=dff_values.rename(columns = {0:'F'})\n",
        "dflista_columnasTestF=pd.DataFrame(lista_columnas)\n",
        "dflista_columnasTestF=dflista_columnasTestF.rename(columns={0:'Variable predictora'})\n",
        "#dflista_columnasTestF=dflista_columnasTestF.rename(columns={0:'Variable predictora'}).join(dfp_values).join(dff_values)\n",
        "dflista_columnasTestF=dflista_columnasTestF.rename(columns={0:'Variable predictora'}).join(dff_values)\n",
        "dflista_columnasTestF"
      ]
    },
    {
      "cell_type": "code",
      "execution_count": 24,
      "metadata": {
        "colab": {
          "base_uri": "https://localhost:8080/",
          "height": 206
        },
        "id": "uEpqQ7PNdyta",
        "outputId": "911ab320-92e5-428c-baf6-024310210adf"
      },
      "outputs": [
        {
          "data": {
            "text/html": [
              "<div>\n",
              "<style scoped>\n",
              "    .dataframe tbody tr th:only-of-type {\n",
              "        vertical-align: middle;\n",
              "    }\n",
              "\n",
              "    .dataframe tbody tr th {\n",
              "        vertical-align: top;\n",
              "    }\n",
              "\n",
              "    .dataframe thead th {\n",
              "        text-align: right;\n",
              "    }\n",
              "</style>\n",
              "<table border=\"1\" class=\"dataframe\">\n",
              "  <thead>\n",
              "    <tr style=\"text-align: right;\">\n",
              "      <th></th>\n",
              "      <th>Variable predictora</th>\n",
              "      <th>F</th>\n",
              "    </tr>\n",
              "  </thead>\n",
              "  <tbody>\n",
              "    <tr>\n",
              "      <th>0</th>\n",
              "      <td>gender</td>\n",
              "      <td>0.965769</td>\n",
              "    </tr>\n",
              "    <tr>\n",
              "      <th>7</th>\n",
              "      <td>ncp</td>\n",
              "      <td>0.399208</td>\n",
              "    </tr>\n",
              "    <tr>\n",
              "      <th>9</th>\n",
              "      <td>smoke</td>\n",
              "      <td>0.077678</td>\n",
              "    </tr>\n",
              "    <tr>\n",
              "      <th>13</th>\n",
              "      <td>tue</td>\n",
              "      <td>24.734326</td>\n",
              "    </tr>\n",
              "    <tr>\n",
              "      <th>14</th>\n",
              "      <td>bad_habits</td>\n",
              "      <td>0.077678</td>\n",
              "    </tr>\n",
              "  </tbody>\n",
              "</table>\n",
              "</div>"
            ],
            "text/plain": [
              "   Variable predictora          F\n",
              "0               gender   0.965769\n",
              "7                  ncp   0.399208\n",
              "9                smoke   0.077678\n",
              "13                 tue  24.734326\n",
              "14          bad_habits   0.077678"
            ]
          },
          "execution_count": 24,
          "metadata": {},
          "output_type": "execute_result"
        }
      ],
      "source": [
        "dflista_columnasTestF[dflista_columnasTestF['F'] < 30]"
      ]
    },
    {
      "cell_type": "markdown",
      "metadata": {
        "id": "AKDRNHlieLrD"
      },
      "source": [
        "### **Conclusión**\n",
        "cuanto mayor es el valor de F mayor es la relación entre la variable predictora y la variable respuesta.\n",
        "\n",
        "Poca relación (**consideramos quitar**): **bad_habits, smoke, ncp, gender y tue**"
      ]
    },
    {
      "cell_type": "markdown",
      "metadata": {
        "id": "4L99PFc6f63H"
      },
      "source": [
        "## Select K Best F regression"
      ]
    },
    {
      "cell_type": "markdown",
      "metadata": {
        "id": "_M0krs5Qg_ck"
      },
      "source": [
        "### Cálculo"
      ]
    },
    {
      "cell_type": "code",
      "execution_count": 25,
      "metadata": {
        "colab": {
          "base_uri": "https://localhost:8080/"
        },
        "id": "qn5UbhWwf7ye",
        "outputId": "0626a403-3f69-431f-cc7c-0f3488c9883a"
      },
      "outputs": [
        {
          "data": {
            "text/plain": [
              "(2136, 11)"
            ]
          },
          "execution_count": 25,
          "metadata": {},
          "output_type": "execute_result"
        }
      ],
      "source": [
        "from sklearn.feature_selection import SelectKBest\n",
        "fselect = SelectKBest(f_regression, k=11) # Seleccionamos las mejores 4, 6 y 8 variables predictoras\n",
        "fselect.fit_transform(X,Y)\n",
        "fselect.transform(X).shape"
      ]
    },
    {
      "cell_type": "code",
      "execution_count": 26,
      "metadata": {
        "colab": {
          "base_uri": "https://localhost:8080/"
        },
        "id": "9DdvidFYgD76",
        "outputId": "7de18d21-1ed2-46ab-d21d-7935c509ec69"
      },
      "outputs": [
        {
          "name": "stdout",
          "output_type": "stream",
          "text": [
            "[ 1  3  4  5  6  8 10 11 12 15 16]\n"
          ]
        }
      ],
      "source": [
        "ffilter = fselect.get_support(indices=True)\n",
        "print(ffilter) #ffilter muestra las variables seleccionadas en el mismo orden de columnas de X"
      ]
    },
    {
      "cell_type": "code",
      "execution_count": 27,
      "metadata": {
        "colab": {
          "base_uri": "https://localhost:8080/"
        },
        "id": "LVWUqWDMgGHq",
        "outputId": "f9f58d2e-6e7f-43ac-ecb6-069d1e3961d4"
      },
      "outputs": [
        {
          "data": {
            "text/plain": [
              "1         age\n",
              "3      weight\n",
              "4     history\n",
              "5        favc\n",
              "6        fcvc\n",
              "8        caec\n",
              "10       ch2o\n",
              "11        scc\n",
              "12        faf\n",
              "15       calc\n",
              "16     mtrans\n",
              "Name: Variable predictora, dtype: object"
            ]
          },
          "execution_count": 27,
          "metadata": {},
          "output_type": "execute_result"
        }
      ],
      "source": [
        "dfKBest_f=dflista_columnas.iloc[ffilter, 0]\n",
        "dfKBest_f"
      ]
    },
    {
      "cell_type": "markdown",
      "metadata": {
        "id": "z-canbcWgo7w"
      },
      "source": [
        "### Conclusión\n",
        "LAS VARIABLES QUE CONISDERAMOS QUTIAR (LAS QUE QUEDAN): **gender, heigth, ncp, smoke, tue, bad habits**"
      ]
    },
    {
      "cell_type": "markdown",
      "metadata": {
        "id": "2fimD19MjVZv"
      },
      "source": [
        "# CONCLUSIÓN GENERAL\n",
        "**Tue** se repite en las cuatro: eliminarla\n",
        "**Bad_habits** y **smole** en 3 de 4: eliminarlas (una la teníamos que eliminar seguro).\n"
      ]
    },
    {
      "cell_type": "markdown",
      "metadata": {
        "id": "6iiv_KQQkoyc"
      },
      "source": [
        "# RFE selección recursiva de variables"
      ]
    },
    {
      "cell_type": "code",
      "execution_count": 28,
      "metadata": {
        "colab": {
          "base_uri": "https://localhost:8080/"
        },
        "id": "PVj6Iw7-ijx0",
        "outputId": "56e22d5e-08bb-4ff8-94fd-01bb9b7ce5e6"
      },
      "outputs": [
        {
          "data": {
            "text/plain": [
              "(2136, 8)"
            ]
          },
          "execution_count": 28,
          "metadata": {},
          "output_type": "execute_result"
        }
      ],
      "source": [
        "from sklearn.linear_model import LinearRegression\n",
        "from sklearn.feature_selection import RFECV\n",
        "lr= LinearRegression()\n",
        "#vamos a ensayar con min_features_to_select=4, 6 y 8 y cv=10\n",
        "rfecv = RFECV(lr, step=1, min_features_to_select=4, cv=10)\n",
        "rfecv.fit(X, Y)\n",
        "rfecv.transform(X).shape"
      ]
    },
    {
      "cell_type": "code",
      "execution_count": 29,
      "metadata": {
        "colab": {
          "base_uri": "https://localhost:8080/"
        },
        "id": "iykI0qwdimsy",
        "outputId": "6134ddcc-799d-48d6-c426-d34fb3103280"
      },
      "outputs": [
        {
          "name": "stdout",
          "output_type": "stream",
          "text": [
            "[ 0  1  2  3  4  8 12 15]\n"
          ]
        }
      ],
      "source": [
        "rfecvfilter = rfecv.get_support(indices=True)\n",
        "print(rfecvfilter)"
      ]
    },
    {
      "cell_type": "code",
      "execution_count": 30,
      "metadata": {
        "colab": {
          "base_uri": "https://localhost:8080/"
        },
        "id": "DNauPxJEioZ9",
        "outputId": "0d3f2c69-7b2e-4942-f2e8-1e1a062c2081"
      },
      "outputs": [
        {
          "data": {
            "text/plain": [
              "0      gender\n",
              "1         age\n",
              "2      height\n",
              "3      weight\n",
              "4     history\n",
              "8        caec\n",
              "12        faf\n",
              "15       calc\n",
              "Name: Variable predictora, dtype: object"
            ]
          },
          "execution_count": 30,
          "metadata": {},
          "output_type": "execute_result"
        }
      ],
      "source": [
        "dfrfecv=dflista_columnas.iloc[rfecvfilter, 0]\n",
        "dfrfecv"
      ]
    },
    {
      "cell_type": "markdown",
      "metadata": {
        "id": "xc8JZibKnQAu"
      },
      "source": [
        "# SFS selección secuencial de variables"
      ]
    },
    {
      "cell_type": "code",
      "execution_count": 31,
      "metadata": {
        "colab": {
          "base_uri": "https://localhost:8080/"
        },
        "id": "9LUZ11emlRPz",
        "outputId": "79d8f407-ee25-4fc7-ac8a-39b4edaf7005"
      },
      "outputs": [
        {
          "data": {
            "text/plain": [
              "(2136, 4)"
            ]
          },
          "execution_count": 31,
          "metadata": {},
          "output_type": "execute_result"
        }
      ],
      "source": [
        "from sklearn.feature_selection import SequentialFeatureSelector\n",
        "lr= LinearRegression()\n",
        "#ensayamos con n_features_to_select= 4, 6, 8 backward y forward\n",
        "sfs = SequentialFeatureSelector(lr, n_features_to_select=4, scoring= 'r2', direction='backward') #NB: direction{‘forward’, ‘backward’}, default=’forward’\n",
        "sfs.fit(X, Y)\n",
        "sfs.transform(X).shape"
      ]
    },
    {
      "cell_type": "code",
      "execution_count": 32,
      "metadata": {
        "colab": {
          "base_uri": "https://localhost:8080/"
        },
        "id": "5t06vIzDlSiC",
        "outputId": "2b50a775-e63a-4419-b3c4-e569728d3eaa"
      },
      "outputs": [
        {
          "name": "stdout",
          "output_type": "stream",
          "text": [
            "[1 2 3 4]\n"
          ]
        }
      ],
      "source": [
        "sfsfilter = sfs.get_support(indices=True)\n",
        "print(sfsfilter)"
      ]
    },
    {
      "cell_type": "code",
      "execution_count": 33,
      "metadata": {
        "colab": {
          "base_uri": "https://localhost:8080/"
        },
        "id": "TjYcjCzZlUDP",
        "outputId": "295f86f9-1d89-4c8c-9f40-e408d1511c7e"
      },
      "outputs": [
        {
          "data": {
            "text/plain": [
              "1        age\n",
              "2     height\n",
              "3     weight\n",
              "4    history\n",
              "Name: Variable predictora, dtype: object"
            ]
          },
          "execution_count": 33,
          "metadata": {},
          "output_type": "execute_result"
        }
      ],
      "source": [
        "dfsfs=dflista_columnas.iloc[sfsfilter, 0]\n",
        "dfsfs"
      ]
    },
    {
      "cell_type": "markdown",
      "metadata": {
        "id": "Rf36cZ7XoO_o"
      },
      "source": [
        "concuerda con lo anterior"
      ]
    },
    {
      "cell_type": "markdown",
      "metadata": {
        "id": "O55N5Gq5kLd_"
      },
      "source": [
        "#CONCLUSIÓN\n",
        "Confirmamos que ni **tue**, ni **smoke**, ni **bad_habits** entran entre las elegidas por selección recursiva.\n",
        "**Ncp**, que aparecía dos veces como no correlacionada con la objetivo podemos considerar quitarla si eso.\n",
        "\n",
        "ELIMINAR POR ORDEN: bad_habits fijo porque es igual que smoke. luego tue que sale en todos lados como no importante. Luego smoke, porque también en 3/4 como no importante y confirmado por selección recursiva y secuencial. Ncp también sale dos veces y luego en rfe y sfs no sale así que se puede plantear."
      ]
    },
    {
      "cell_type": "markdown",
      "metadata": {
        "id": "9ynGSfHIomlq"
      },
      "source": [
        "# **PCA**"
      ]
    },
    {
      "cell_type": "code",
      "execution_count": 34,
      "metadata": {
        "colab": {
          "base_uri": "https://localhost:8080/"
        },
        "id": "oAFKEZYJpTiX",
        "outputId": "2fa2a7f2-dcac-49f0-c826-fa7f36d6bb13"
      },
      "outputs": [
        {
          "name": "stdout",
          "output_type": "stream",
          "text": [
            "Pesos de las variables en cada componente principal:\n",
            "          gender           age        height        weight       history  \\\n",
            "0  -3.361235e-01 -1.502463e-01 -4.589842e-01 -4.849748e-01 -3.812363e-01   \n",
            "1   2.004318e-02  8.064404e-02  1.451833e-02 -5.358829e-02 -6.204891e-02   \n",
            "2   3.494705e-01 -3.699893e-01  3.519828e-01 -1.878675e-01 -1.726769e-01   \n",
            "3  -3.049741e-01 -5.265057e-02  1.130764e-02  2.077082e-01  1.719490e-02   \n",
            "4   2.862998e-01  4.927097e-01  5.751986e-02 -4.400789e-02 -3.857275e-02   \n",
            "5  -1.999825e-02 -1.517480e-01 -1.473008e-01  5.591076e-03  4.342398e-02   \n",
            "6   1.643811e-01 -6.320543e-02  8.652633e-02 -5.066523e-02 -4.437704e-01   \n",
            "7  -7.441366e-02  2.185898e-02 -4.939210e-02  8.685041e-02  6.851683e-02   \n",
            "8   6.899160e-02  1.380132e-01 -2.405299e-02  5.453746e-02  3.714540e-01   \n",
            "9   2.067202e-01 -5.884153e-02  2.371588e-01  1.399662e-01 -6.564044e-03   \n",
            "10 -6.186500e-02 -7.487266e-02 -3.939243e-02  1.025608e-01 -2.033027e-02   \n",
            "11 -2.131711e-01  3.801989e-01 -1.509342e-01 -1.944111e-01 -1.390805e-02   \n",
            "12 -9.664677e-02  3.883787e-01 -5.491157e-02  4.609055e-02  1.979042e-01   \n",
            "13  2.582704e-01  4.710610e-01  4.424410e-02 -7.902707e-02 -4.773234e-01   \n",
            "14 -3.907454e-01  5.953087e-02  1.653795e-01  6.432913e-01 -4.527258e-01   \n",
            "15  4.806933e-01 -1.097626e-01 -7.188126e-01  4.223037e-01 -7.143747e-02   \n",
            "16 -1.248748e-17 -2.898042e-17  1.762590e-17 -6.225969e-17  1.085706e-16   \n",
            "\n",
            "            favc          fcvc           ncp          caec     smoke  \\\n",
            "0  -2.616621e-01 -2.736871e-03 -1.331911e-01  2.290364e-01 -0.083526   \n",
            "1  -1.295939e-01  2.017660e-02  1.679005e-02  1.279072e-01  0.680205   \n",
            "2  -1.817896e-01 -1.771970e-01  2.319552e-01  1.781696e-01 -0.051301   \n",
            "3  -2.085273e-01  6.441773e-01  2.487671e-01  8.829485e-02 -0.056542   \n",
            "4  -3.720996e-01 -1.122141e-01 -1.213608e-01 -2.449957e-02 -0.080570   \n",
            "5  -1.082429e-01 -4.110266e-02 -5.516375e-01 -5.564364e-01  0.070285   \n",
            "6   6.944749e-02 -2.354986e-01 -4.651025e-02 -1.407561e-01 -0.048490   \n",
            "7  -9.862228e-02 -1.379555e-02 -1.092564e-01  3.765703e-02 -0.028755   \n",
            "8  -1.442319e-01 -2.789682e-01  2.061031e-01  1.352761e-01 -0.050072   \n",
            "9   3.047282e-01  3.239258e-01 -5.589084e-01  2.723093e-01 -0.041878   \n",
            "10  5.291915e-02  1.404863e-02  3.323332e-01 -6.239645e-01  0.010575   \n",
            "11  6.554425e-01 -1.847346e-01  9.315635e-02  9.054981e-02  0.006170   \n",
            "12 -3.448741e-01 -7.625378e-02 -1.758825e-01  4.691411e-02 -0.070239   \n",
            "13  6.926356e-03  3.816162e-01  1.325083e-01 -1.700958e-01 -0.022601   \n",
            "14 -7.405182e-02 -3.387622e-01 -5.378053e-02  1.253998e-01  0.002223   \n",
            "15  5.427860e-02  3.166092e-03  8.826887e-02  1.528007e-01  0.006820   \n",
            "16  1.271797e-17  3.083053e-17 -9.071024e-17  2.392872e-16  0.707107   \n",
            "\n",
            "            ch2o           scc           faf           tue  bad_habits  \\\n",
            "0  -2.185330e-01  2.163393e-01 -6.196904e-02  7.714900e-03    0.083526   \n",
            "1  -6.251721e-02  1.118423e-01  2.301393e-02 -8.791857e-03   -0.680205   \n",
            "2   1.409538e-01  1.231639e-01  4.561400e-01  2.631182e-01    0.051301   \n",
            "3   3.183916e-01  2.843729e-01  1.928566e-01 -1.947182e-01    0.056542   \n",
            "4  -2.269237e-02  3.860114e-02  1.096920e-01 -6.099569e-01    0.080570   \n",
            "5   4.641864e-01  2.077480e-01  1.305448e-01  1.260491e-01   -0.070285   \n",
            "6   7.637941e-02  2.144112e-01 -1.468884e-01 -1.741846e-01    0.048490   \n",
            "7  -2.221240e-02 -2.681345e-01 -3.042409e-01  2.734246e-01    0.028755   \n",
            "8   1.261706e-01  6.587528e-01 -4.245730e-01  1.887511e-01    0.050072   \n",
            "9  -3.664663e-01  3.795732e-01  1.282105e-02  2.237461e-02    0.041878   \n",
            "10 -5.825035e-01  2.674121e-01  1.319499e-01 -7.113865e-03   -0.010575   \n",
            "11  2.146982e-01  1.745914e-01  3.504930e-01 -1.586563e-03   -0.006170   \n",
            "12 -2.338254e-01 -7.495233e-03  4.681214e-01  4.194299e-01    0.070239   \n",
            "13  1.176727e-01  1.816343e-03 -2.130913e-01  4.305164e-01    0.022601   \n",
            "14  1.855649e-02  4.516990e-02  2.451223e-02  4.543905e-02   -0.002223   \n",
            "15  1.717433e-02 -3.394681e-03  1.460503e-01  1.298141e-02   -0.006820   \n",
            "16 -2.262207e-17 -9.975755e-17  2.314744e-17 -2.930925e-17    0.707107   \n",
            "\n",
            "            calc        mtrans  \n",
            "0  -1.363088e-01  5.978830e-02  \n",
            "1   8.194517e-02  5.677063e-02  \n",
            "2  -1.036017e-01  2.713887e-01  \n",
            "3   2.376588e-01  1.108950e-01  \n",
            "4  -1.471729e-01  2.853591e-01  \n",
            "5  -1.352320e-01  7.681604e-02  \n",
            "6   7.386961e-01 -1.601346e-01  \n",
            "7   3.259230e-01  7.800278e-01  \n",
            "8  -6.481756e-02 -1.667411e-02  \n",
            "9  -2.993832e-02  1.008274e-01  \n",
            "10 -3.689896e-02  2.131713e-01  \n",
            "11  3.237973e-02  2.609169e-01  \n",
            "12  3.459936e-01 -2.413691e-01  \n",
            "13 -1.859468e-01 -5.465660e-02  \n",
            "14 -2.311364e-01  1.715672e-02  \n",
            "15  2.061961e-02  1.820190e-02  \n",
            "16 -6.144360e-17 -3.840003e-17  \n",
            "\n",
            "Variabilidad explicada por cada componente principal:\n",
            "Componente principal 1: 0.15\n",
            "Componente principal 2: 0.12\n",
            "Componente principal 3: 0.11\n",
            "Componente principal 4: 0.08\n",
            "Componente principal 5: 0.07\n",
            "Componente principal 6: 0.06\n",
            "Componente principal 7: 0.06\n",
            "Componente principal 8: 0.06\n",
            "Componente principal 9: 0.05\n",
            "Componente principal 10: 0.05\n",
            "Componente principal 11: 0.04\n",
            "Componente principal 12: 0.04\n",
            "Componente principal 13: 0.04\n",
            "Componente principal 14: 0.03\n",
            "Componente principal 15: 0.02\n",
            "Componente principal 16: 0.01\n",
            "Componente principal 17: 0.00\n",
            "\n",
            "Variables que contribuyen más a cada componente principal:\n",
            "Componente principal 1: caec (peso: 0.23)\n",
            "Componente principal 2: smoke (peso: 0.68)\n",
            "Componente principal 3: faf (peso: 0.46)\n",
            "Componente principal 4: fcvc (peso: 0.64)\n",
            "Componente principal 5: age (peso: 0.49)\n",
            "Componente principal 6: ch2o (peso: 0.46)\n",
            "Componente principal 7: calc (peso: 0.74)\n",
            "Componente principal 8: mtrans (peso: 0.78)\n",
            "Componente principal 9: scc (peso: 0.66)\n",
            "Componente principal 10: scc (peso: 0.38)\n",
            "Componente principal 11: ncp (peso: 0.33)\n",
            "Componente principal 12: favc (peso: 0.66)\n",
            "Componente principal 13: faf (peso: 0.47)\n",
            "Componente principal 14: age (peso: 0.47)\n",
            "Componente principal 15: weight (peso: 0.64)\n",
            "Componente principal 16: gender (peso: 0.48)\n",
            "Componente principal 17: smoke (peso: 0.71)\n"
          ]
        }
      ],
      "source": [
        "from sklearn.decomposition import PCA\n",
        "import pandas as pd\n",
        "\n",
        "# Seleccionar las características del dataframe (excluir la variable objetivo)\n",
        "X = obesity.drop(columns=['nobeyesdad'])\n",
        "\n",
        "# Normalizar las características si es necesario (opcional)\n",
        "# Esto es importante para PCA ya que es sensible a la escala de las características\n",
        "# Puedes usar StandardScaler o MinMaxScaler para normalizar las características\n",
        "from sklearn.preprocessing import StandardScaler\n",
        "scaler = StandardScaler()\n",
        "X_scaled = scaler.fit_transform(X)\n",
        "\n",
        "# Aplicar PCA\n",
        "pca = PCA()\n",
        "X_pca = pca.fit_transform(X)\n",
        "\n",
        "# Obtener los nombres de las características originales\n",
        "nombres_caracteristicas = X.columns\n",
        "\n",
        "# Obtener los pesos de las variables originales en cada componente principal\n",
        "componentes_principales = pca.components_\n",
        "\n",
        "# Crear un DataFrame para visualizar los pesos de las variables en cada componente principal\n",
        "df_componentes = pd.DataFrame(componentes_principales, columns=nombres_caracteristicas)\n",
        "\n",
        "# Visualizar los pesos de las variables en cada componente principal\n",
        "print(\"Pesos de las variables en cada componente principal:\")\n",
        "print(df_componentes)\n",
        "\n",
        "# Obtener la variabilidad explicada por cada componente principal\n",
        "var_explicada = pca.explained_variance_ratio_\n",
        "\n",
        "# Visualizar la variabilidad explicada por cada componente principal\n",
        "print(\"\\nVariabilidad explicada por cada componente principal:\")\n",
        "for i, var in enumerate(var_explicada):\n",
        "    print(f\"Componente principal {i+1}: {var:.2f}\")\n",
        "\n",
        "# Identificar las variables que contribuyen más a cada componente principal\n",
        "print(\"\\nVariables que contribuyen más a cada componente principal:\")\n",
        "for i, componente in enumerate(componentes_principales):\n",
        "    # Obtener el índice de la característica con el peso máximo en el componente\n",
        "    indice_max = componente.argmax()\n",
        "    # Obtener el nombre de la característica correspondiente al índice máximo\n",
        "    variable_max = nombres_caracteristicas[indice_max]\n",
        "    print(f\"Componente principal {i+1}: {variable_max} (peso: {componente[indice_max]:.2f})\")"
      ]
    },
    {
      "cell_type": "markdown",
      "metadata": {
        "id": "Of4faF95p7he"
      },
      "source": [
        "Vale entonces eliminar smoke mejor no, pero tue y bad_habits SÍ."
      ]
    }
  ],
  "metadata": {
    "colab": {
      "collapsed_sections": [
        "iSu7nH31cDwk",
        "dxliotHJcKBF",
        "HMcmIcbjcSdQ",
        "VoaWNA1JhEb9",
        "dVpXgbrynuVz",
        "ynnIsUgvvyyG",
        "0saDSETMeIQz",
        "4L99PFc6f63H",
        "_M0krs5Qg_ck",
        "6iiv_KQQkoyc",
        "xc8JZibKnQAu"
      ],
      "provenance": []
    },
    "kernelspec": {
      "display_name": "Python 3",
      "name": "python3"
    },
    "language_info": {
      "codemirror_mode": {
        "name": "ipython",
        "version": 3
      },
      "file_extension": ".py",
      "mimetype": "text/x-python",
      "name": "python",
      "nbconvert_exporter": "python",
      "pygments_lexer": "ipython3",
      "version": "3.10.13"
    }
  },
  "nbformat": 4,
  "nbformat_minor": 0
}
